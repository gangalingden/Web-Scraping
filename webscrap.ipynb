{
 "cells": [
  {
   "cell_type": "code",
   "execution_count": null,
   "metadata": {},
   "outputs": [],
   "source": [
    "#import necessary libraries\n",
    "from bs4 import BeautifulSoup\n",
    "from urllib import request\n",
    "from matplotlib import pyplot\n",
    "from geopy.distance import  great_circle\n",
    "import pandas as pd\n",
    "import json\n",
    "import time\n",
    "\n",
    "\n",
    "\n",
    "#used as central point for distance calcualtion\n",
    "center_point = (60.171945, 24.941400) # Kaivokatu 1, 00101 Helsinki in lattitude and longitude\n",
    "total_data = []\n",
    "base_url = 'https://www.yelp.com'\n",
    "total_url = []\n",
    "page_items =  ['0', '30']\n",
    "\n",
    "\n",
    "# request to the yelp website\n",
    "# collect url to each resturants\n",
    "# 30 items in each page, and total 2 page, so iterate 2 times\n",
    "\n",
    "#Scrap each resturant url\n",
    "for i in page_items :\n",
    "    url = 'https://www.yelp.com/search?find_desc=Restaurants+-+Breakfast+%26+Brunch&find_loc=Helsinki,+Finland&start='+ i + '&cflt=breakfast_brunch&attrs=RestaurantsPriceRange2.1,RestaurantsPriceRange2.2,BusinessAcceptsCreditCards'\n",
    "    source = request.urlopen(url)\n",
    "    soup = BeautifulSoup(source.read(),\"html.parser\" )\n",
    "    resturant_url = soup.find_all('a', {'class': 'nowrap'}) \n",
    "    #total_url.append([base_url + l.get('href') for l in resturant_url])\n",
    "    for l in resturant_url:\n",
    "        total_url.append(base_url + l.get('href'))\n",
    "    time.sleep(1)\n",
    "    \n",
    "    \n",
    "# iterates overe total_url list\n",
    "# extracts each resturant's infromation as dictionary and append them into total_data \n",
    "\n",
    "for each_url in total_url:\n",
    "    resturant_data= {}\n",
    "    source = request.urlopen(each_url)\n",
    "    soup = BeautifulSoup(source, 'html.parser')\n",
    "    \n",
    "    #check None type\n",
    "    Resturant_name = soup.find('h1', {'class': 'biz-page-title embossed-text-white shortenough'})\n",
    "    if Resturant_name is not None:\n",
    "        resturant_data['Resturant_name'] = Resturant_name.text.strip()\n",
    "    else:\n",
    "        resturant_data['Resturant_name'] = 'Empty'\n",
    "        \n",
    "    \n",
    "    Rating = soup.find('img', {'class' : 'offscreen'})\n",
    "    if Rating is not None:\n",
    "        resturant_data['Rating'] = float(Rating.get('alt').split(' ')[0])\n",
    "        \n",
    "    else:\n",
    "        resturant_data['Rating'] = 'Empty'\n",
    "        \n",
    "        \n",
    "        \n",
    "    Review = soup.find('span', {'class' :'review-count rating-qualifier'})\n",
    "    if Review is not None:\n",
    "        resturant_data['Review'] = int(Review.text.strip().split(' ')[0])\n",
    "    else:\n",
    "        resturant_data['Review'] = 'Empty'\n",
    "        \n",
    "        \n",
    "    Price_range =  soup.find('dd', {'class':'nowrap price-description'})\n",
    "    if Price_range is not None:\n",
    "        resturant_data['Price_range(€)'] = Price_range.text.strip().replace('€', '')\n",
    "    else:\n",
    "        resturant_data['Price_range(€)']= 'Empty'\n",
    "        \n",
    "\n",
    "    Saturday = soup.find('th', text='Sat')\n",
    "    if Saturday is not None:\n",
    "        resturant_data['Saturday'] = Saturday.find_next_sibling('td').text.strip()\n",
    "    else:\n",
    "        resturant_data['Saturday'] = 'Empty'\n",
    "        \n",
    "    \n",
    "    Sunday = soup.find('th', text='Sun')\n",
    "    if Sunday is not None:\n",
    "        resturant_data['Sunday'] = Sunday.find_next_sibling('td').text.strip()\n",
    "    else:\n",
    "        resturant_data['Sunday'] = 'Empty'\n",
    "        \n",
    "    resturant_data['Accept_credit_card'] = soup.find('div', {'class': 'short-def-list'}).dd.text.strip()\n",
    "    \n",
    "    #get latitude and longitude\n",
    "    restur_lat_lon = (json.loads(soup.find('div',{'class': 'lightbox-map hidden'}).get('data-map-state')))['center'].values()\n",
    "    resturant_data['Distance(km)'] = round(great_circle(center_point,restur_lat_lon).km, 2)\n",
    "    \n",
    "    total_data.append(resturant_data)\n",
    "    time.sleep(2)\n",
    "    \n",
    "    \n",
    "    \n",
    "#plot top five resturant in bar char\n",
    "data = Top_five_Restaurants.filter(items=['Rating','Review','Distance(km)'])\n",
    "ax = data.plot(kind = 'bar', title = 'Bar Chart of top five restaurants')\n",
    "ax.set_xticklabels(Top_five_Restaurants.Resturant_name, rotation=45)\n",
    "ax.set(xlabel='Resturant Name', ylabel='Scale')\n",
    "pyplot.show()\n"
   ]
  },
  {
   "cell_type": "code",
   "execution_count": 1,
   "metadata": {},
   "outputs": [
    {
     "data": {
      "text/plain": [
       "['https://www.yelp.com/biz/fleuriste-helsinki?hrid=N5oCBxMdtTGQulGwrvA0FQ&osq=Restaurants+-+Breakfast+%26+Brunch',\n",
       " 'https://www.yelp.com/biz/sis-deli-ja-cafe-helsinki-2?hrid=NmlEi0zAoTe8cm08B8n7wg&osq=Restaurants+-+Breakfast+%26+Brunch',\n",
       " 'https://www.yelp.com/biz/caf%C3%A9-daja-helsinki?hrid=1PBB9N6DVCqLOgDqZsgjtQ&osq=Restaurants+-+Breakfast+%26+Brunch',\n",
       " 'https://www.yelp.com/biz/caf%C3%A9-engel-helsinki-2?hrid=x8zdapfION1IAdQZRrs-PA&osq=Restaurants+-+Breakfast+%26+Brunch',\n",
       " 'https://www.yelp.com/biz/la-torrefazione-helsinki?hrid=lH-pbE6mwsGkIzyyuwAqkg&osq=Restaurants+-+Breakfast+%26+Brunch',\n",
       " 'https://www.yelp.com/biz/moko-market-ja-cafe-helsinki?hrid=Vq6Kn7-ZvTa2k5yfkao-5w&osq=Restaurants+-+Breakfast+%26+Brunch',\n",
       " 'https://www.yelp.com/biz/karl-fazer-caf%C3%A9-helsinki-2?hrid=WeWnTp9e6i5KX7dOQKcT2g&osq=Restaurants+-+Breakfast+%26+Brunch',\n",
       " 'https://www.yelp.com/biz/tin-tin-tango-helsinki?hrid=MlQkfSM7pzWHyqVaS3K6lQ&osq=Restaurants+-+Breakfast+%26+Brunch',\n",
       " 'https://www.yelp.com/biz/cargo-helsinki-2?hrid=OH5tSihjMVKHDB2DP_1HqQ&osq=Restaurants+-+Breakfast+%26+Brunch',\n",
       " 'https://www.yelp.com/biz/deli-cafe-maya-helsinki?hrid=Xj1ijjSJzBzQypUA4bV-MQ&osq=Restaurants+-+Breakfast+%26+Brunch',\n",
       " 'https://www.yelp.com/biz/piritta-helsinki?hrid=eeDWYpwu_TPG0wfiIZRf9A&osq=Restaurants+-+Breakfast+%26+Brunch',\n",
       " 'https://www.yelp.com/biz/factory-helsinki-5?hrid=Q5BEzxiv-lt5yysUO1fwAg&osq=Restaurants+-+Breakfast+%26+Brunch',\n",
       " 'https://www.yelp.com/biz/cardemumma-helsinki-2?hrid=2Rv3JAvldtjxpR5wGZ7qYg&osq=Restaurants+-+Breakfast+%26+Brunch',\n",
       " 'https://www.yelp.com/biz/ursula-helsinki?hrid=oD8y3z68kc_XTmBqPifjaA&osq=Restaurants+-+Breakfast+%26+Brunch',\n",
       " 'https://www.yelp.com/biz/dylan-helsinki-10?hrid=qXeLvPhH0WhuGdL2BW0R1A&osq=Restaurants+-+Breakfast+%26+Brunch',\n",
       " 'https://www.yelp.com/biz/sis-deli-ja-cafe-helsinki-3?hrid=rR0UHmKqSu0oYYMyC3eRbg&osq=Restaurants+-+Breakfast+%26+Brunch',\n",
       " 'https://www.yelp.com/biz/sandro-helsinki-2?hrid=i5yf40NjazrwTVBhtVqE6g&osq=Restaurants+-+Breakfast+%26+Brunch',\n",
       " 'https://www.yelp.com/biz/birgitta-helsinki?hrid=9aQ5FuRhzaoFpT8ff9Nz0A&osq=Restaurants+-+Breakfast+%26+Brunch',\n",
       " 'https://www.yelp.com/biz/factory-helsinki-7?hrid=wDuRk12d1XSfal3CVpVqvg&osq=Restaurants+-+Breakfast+%26+Brunch',\n",
       " 'https://www.yelp.com/biz/siltanen-helsinki?hrid=fc3FlcHYL5qUiBXZXVigdQ&osq=Restaurants+-+Breakfast+%26+Brunch',\n",
       " 'https://www.yelp.com/biz/mau-kas-espoo?hrid=SPrSLIwv1JtrZd3t2JTuJA&osq=Restaurants+-+Breakfast+%26+Brunch',\n",
       " 'https://www.yelp.com/biz/bakers-helsinki?hrid=Z4oarShjc6mSCXsgjaCwjQ&osq=Restaurants+-+Breakfast+%26+Brunch',\n",
       " 'https://www.yelp.com/biz/sandro-helsinki-3?hrid=--QWREVjrNBduIIj67FspA&osq=Restaurants+-+Breakfast+%26+Brunch',\n",
       " 'https://www.yelp.com/biz/dylan-milk-helsinki?hrid=q5YyBhBTzOiikgvh2GyMpw&osq=Restaurants+-+Breakfast+%26+Brunch',\n",
       " 'https://www.yelp.com/biz/ipi-kulmakuppila-helsinki?hrid=UsErIdpjaiCFn77klWCYuw&osq=Restaurants+-+Breakfast+%26+Brunch',\n",
       " 'https://www.yelp.com/biz/moko-market-helsinki?hrid=31BSwRQXYbkf3KcgOs43HA&osq=Restaurants+-+Breakfast+%26+Brunch',\n",
       " 'https://www.yelp.com/biz/hima-ja-sali-helsinki-3?hrid=v7NBVPGaBoElnBF2n-diLQ&osq=Restaurants+-+Breakfast+%26+Brunch']"
      ]
     },
     "execution_count": 1,
     "metadata": {},
     "output_type": "execute_result"
    }
   ],
   "source": [
    "total_url = ['https://www.yelp.com/biz/fleuriste-helsinki?hrid=N5oCBxMdtTGQulGwrvA0FQ&osq=Restaurants+-+Breakfast+%26+Brunch', 'https://www.yelp.com/biz/sis-deli-ja-cafe-helsinki-2?hrid=NmlEi0zAoTe8cm08B8n7wg&osq=Restaurants+-+Breakfast+%26+Brunch', 'https://www.yelp.com/biz/caf%C3%A9-daja-helsinki?hrid=1PBB9N6DVCqLOgDqZsgjtQ&osq=Restaurants+-+Breakfast+%26+Brunch', 'https://www.yelp.com/biz/caf%C3%A9-engel-helsinki-2?hrid=x8zdapfION1IAdQZRrs-PA&osq=Restaurants+-+Breakfast+%26+Brunch', 'https://www.yelp.com/biz/la-torrefazione-helsinki?hrid=lH-pbE6mwsGkIzyyuwAqkg&osq=Restaurants+-+Breakfast+%26+Brunch', 'https://www.yelp.com/biz/moko-market-ja-cafe-helsinki?hrid=Vq6Kn7-ZvTa2k5yfkao-5w&osq=Restaurants+-+Breakfast+%26+Brunch', 'https://www.yelp.com/biz/karl-fazer-caf%C3%A9-helsinki-2?hrid=WeWnTp9e6i5KX7dOQKcT2g&osq=Restaurants+-+Breakfast+%26+Brunch', 'https://www.yelp.com/biz/tin-tin-tango-helsinki?hrid=MlQkfSM7pzWHyqVaS3K6lQ&osq=Restaurants+-+Breakfast+%26+Brunch', 'https://www.yelp.com/biz/cargo-helsinki-2?hrid=OH5tSihjMVKHDB2DP_1HqQ&osq=Restaurants+-+Breakfast+%26+Brunch', 'https://www.yelp.com/biz/deli-cafe-maya-helsinki?hrid=Xj1ijjSJzBzQypUA4bV-MQ&osq=Restaurants+-+Breakfast+%26+Brunch', 'https://www.yelp.com/biz/piritta-helsinki?hrid=eeDWYpwu_TPG0wfiIZRf9A&osq=Restaurants+-+Breakfast+%26+Brunch', 'https://www.yelp.com/biz/factory-helsinki-5?hrid=Q5BEzxiv-lt5yysUO1fwAg&osq=Restaurants+-+Breakfast+%26+Brunch', 'https://www.yelp.com/biz/cardemumma-helsinki-2?hrid=2Rv3JAvldtjxpR5wGZ7qYg&osq=Restaurants+-+Breakfast+%26+Brunch', 'https://www.yelp.com/biz/ursula-helsinki?hrid=oD8y3z68kc_XTmBqPifjaA&osq=Restaurants+-+Breakfast+%26+Brunch', 'https://www.yelp.com/biz/dylan-helsinki-10?hrid=qXeLvPhH0WhuGdL2BW0R1A&osq=Restaurants+-+Breakfast+%26+Brunch', 'https://www.yelp.com/biz/sis-deli-ja-cafe-helsinki-3?hrid=rR0UHmKqSu0oYYMyC3eRbg&osq=Restaurants+-+Breakfast+%26+Brunch', 'https://www.yelp.com/biz/sandro-helsinki-2?hrid=i5yf40NjazrwTVBhtVqE6g&osq=Restaurants+-+Breakfast+%26+Brunch', 'https://www.yelp.com/biz/birgitta-helsinki?hrid=9aQ5FuRhzaoFpT8ff9Nz0A&osq=Restaurants+-+Breakfast+%26+Brunch', 'https://www.yelp.com/biz/factory-helsinki-7?hrid=wDuRk12d1XSfal3CVpVqvg&osq=Restaurants+-+Breakfast+%26+Brunch', 'https://www.yelp.com/biz/siltanen-helsinki?hrid=fc3FlcHYL5qUiBXZXVigdQ&osq=Restaurants+-+Breakfast+%26+Brunch', 'https://www.yelp.com/biz/mau-kas-espoo?hrid=SPrSLIwv1JtrZd3t2JTuJA&osq=Restaurants+-+Breakfast+%26+Brunch', 'https://www.yelp.com/biz/bakers-helsinki?hrid=Z4oarShjc6mSCXsgjaCwjQ&osq=Restaurants+-+Breakfast+%26+Brunch', 'https://www.yelp.com/biz/sandro-helsinki-3?hrid=--QWREVjrNBduIIj67FspA&osq=Restaurants+-+Breakfast+%26+Brunch', 'https://www.yelp.com/biz/dylan-milk-helsinki?hrid=q5YyBhBTzOiikgvh2GyMpw&osq=Restaurants+-+Breakfast+%26+Brunch', 'https://www.yelp.com/biz/ipi-kulmakuppila-helsinki?hrid=UsErIdpjaiCFn77klWCYuw&osq=Restaurants+-+Breakfast+%26+Brunch', 'https://www.yelp.com/biz/moko-market-helsinki?hrid=31BSwRQXYbkf3KcgOs43HA&osq=Restaurants+-+Breakfast+%26+Brunch', 'https://www.yelp.com/biz/hima-ja-sali-helsinki-3?hrid=v7NBVPGaBoElnBF2n-diLQ&osq=Restaurants+-+Breakfast+%26+Brunch']\n",
    "total_url"
   ]
  },
  {
   "cell_type": "code",
   "execution_count": 2,
   "metadata": {},
   "outputs": [
    {
     "ename": "NameError",
     "evalue": "name 'resturant' is not defined",
     "output_type": "error",
     "traceback": [
      "\u001b[0;31m---------------------------------------------------------------------------\u001b[0m",
      "\u001b[0;31mNameError\u001b[0m                                 Traceback (most recent call last)",
      "\u001b[0;32m<ipython-input-2-e99f0cab4b32>\u001b[0m in \u001b[0;36m<module>\u001b[0;34m()\u001b[0m\n\u001b[1;32m      1\u001b[0m \u001b[0;31m# sort restaurants based on distance(ascending order)\u001b[0m\u001b[0;34m\u001b[0m\u001b[0;34m\u001b[0m\u001b[0m\n\u001b[0;32m----> 2\u001b[0;31m \u001b[0mrest_with_min_distance\u001b[0m \u001b[0;34m=\u001b[0m \u001b[0mresturant\u001b[0m\u001b[0;34m.\u001b[0m\u001b[0msort_values\u001b[0m\u001b[0;34m(\u001b[0m\u001b[0;34m'Distance(km)'\u001b[0m\u001b[0;34m)\u001b[0m\u001b[0;34m\u001b[0m\u001b[0m\n\u001b[0m\u001b[1;32m      3\u001b[0m \u001b[0mrest_with_min_distance\u001b[0m\u001b[0;34m\u001b[0m\u001b[0m\n",
      "\u001b[0;31mNameError\u001b[0m: name 'resturant' is not defined"
     ]
    }
   ],
   "source": [
    "# sort restaurants based on distance(ascending order)\n",
    "rest_with_min_distance = resturant.sort_values('Distance(km)')\n",
    "rest_with_min_distance"
   ]
  },
  {
   "cell_type": "code",
   "execution_count": 3,
   "metadata": {},
   "outputs": [
    {
     "data": {
      "text/plain": [
       "279.35290160386563"
      ]
     },
     "execution_count": 3,
     "metadata": {},
     "output_type": "execute_result"
    }
   ],
   "source": [
    "from geopy.distance import vincenty\n",
    "vincenty((52.2296756, 21.0122287),(52.406374, 16.9251681)).km"
   ]
  },
  {
   "cell_type": "code",
   "execution_count": 4,
   "metadata": {},
   "outputs": [
    {
     "data": {
      "text/plain": [
       "278.45856843965987"
      ]
     },
     "execution_count": 4,
     "metadata": {},
     "output_type": "execute_result"
    }
   ],
   "source": [
    "from geopy.distance import great_circle\n",
    "great_circle((52.2296756, 21.0122287),(52.406374, 16.9251681)).km"
   ]
  },
  {
   "cell_type": "code",
   "execution_count": 5,
   "metadata": {},
   "outputs": [
    {
     "data": {
      "text/plain": [
       "279.35290160430094"
      ]
     },
     "execution_count": 5,
     "metadata": {},
     "output_type": "execute_result"
    }
   ],
   "source": [
    "from geopy.distance import geodesic\n",
    "geodesic((52.2296756, 21.0122287),(52.406374, 16.9251681)).km\n"
   ]
  },
  {
   "cell_type": "code",
   "execution_count": null,
   "metadata": {},
   "outputs": [],
   "source": [
    "from bs4 import BeautifulSoup\n",
    "from urllib import request\n",
    "import re\n",
    "import time\n",
    "\n",
    "base_url = 'https://www.yelp.com'\n",
    "list_value = 0\n",
    "total_url = []\n",
    "for resturant in range(1):\n",
    "    #url = 'https://www.yelp.com/search?find_desc=Restaurants+-+Breakfast+%26+Brunch&find_loc=Helsinki,+Finland&start=0'\n",
    "    #url ='https://www.yelp.com/search?find_desc=Breakfast+%26+Brunch&find_loc=Helsinki&start=' + str(list_value) + str(re.compile('.*')) \n",
    "    url = 'https://www.yelp.com/search?find_desc=Breakfast+%26+Brunch&find_loc=Helsinki&start=0&cflt=breakfast_brunch&attrs=BusinessAcceptsCreditCards,RestaurantsPriceRange2.1,RestaurantsPriceRange2.2'\n",
    "    source = request.urlopen(url)\n",
    "    soup = BeautifulSoup(source,\"html.parser\" )\n",
    "    resturant_perpage = soup.find_all('a', attrs={'class': 'nowrap'}) \n",
    "    resturant_perpage\n",
    "    \n",
    "   \n",
    "    for each_url in resturant_perpage:\n",
    "        single_url = base_url + each_url.get('href')\n",
    "        total_url.append(singll_url)\n",
    "    #time.sleep(1)\n",
    "    #list_value += 30\n"
   ]
  }
 ],
 "metadata": {
  "kernelspec": {
   "display_name": "Python 3",
   "language": "python",
   "name": "python3"
  },
  "language_info": {
   "codemirror_mode": {
    "name": "ipython",
    "version": 3
   },
   "file_extension": ".py",
   "mimetype": "text/x-python",
   "name": "python",
   "nbconvert_exporter": "python",
   "pygments_lexer": "ipython3",
   "version": "3.6.5"
  }
 },
 "nbformat": 4,
 "nbformat_minor": 2
}
